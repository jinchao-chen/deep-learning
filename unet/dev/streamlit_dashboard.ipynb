{
 "cells": [
  {
   "cell_type": "code",
   "execution_count": 1,
   "id": "07baf54d",
   "metadata": {},
   "outputs": [],
   "source": [
    "import pandas as pd"
   ]
  },
  {
   "cell_type": "code",
   "execution_count": 21,
   "id": "a761d4c0",
   "metadata": {},
   "outputs": [],
   "source": [
    "import json\n",
    "\n",
    "from pathlib import Path\n",
    "\n",
    "p = Path().absolute()\n",
    "\n",
    "p_log=p.parent/'logs'\n",
    "\n",
    "flns = list(p_log.glob('*json'))\n",
    "\n",
    "dfs = []\n",
    "for file in flns:\n",
    "    with open(file) as f:\n",
    "        json_data = pd.json_normalize(json.loads(f.read()))\n",
    "    dfs.append(json_data)\n",
    "    \n",
    "df = pd.concat(dfs, sort=False) # or sort=True depending on your needs"
   ]
  },
  {
   "cell_type": "code",
   "execution_count": 22,
   "id": "9c674452",
   "metadata": {},
   "outputs": [
    {
     "data": {
      "text/html": [
       "<div>\n",
       "<style scoped>\n",
       "    .dataframe tbody tr th:only-of-type {\n",
       "        vertical-align: middle;\n",
       "    }\n",
       "\n",
       "    .dataframe tbody tr th {\n",
       "        vertical-align: top;\n",
       "    }\n",
       "\n",
       "    .dataframe thead th {\n",
       "        text-align: right;\n",
       "    }\n",
       "</style>\n",
       "<table border=\"1\" class=\"dataframe\">\n",
       "  <thead>\n",
       "    <tr style=\"text-align: right;\">\n",
       "      <th></th>\n",
       "      <th>run_no</th>\n",
       "      <th>batch_size</th>\n",
       "      <th>img_w</th>\n",
       "      <th>lr</th>\n",
       "      <th>epoches</th>\n",
       "      <th>weighted</th>\n",
       "    </tr>\n",
       "  </thead>\n",
       "  <tbody>\n",
       "    <tr>\n",
       "      <th>0</th>\n",
       "      <td>run_10010</td>\n",
       "      <td>16</td>\n",
       "      <td>256</td>\n",
       "      <td>0.001</td>\n",
       "      <td>100</td>\n",
       "      <td>NaN</td>\n",
       "    </tr>\n",
       "    <tr>\n",
       "      <th>0</th>\n",
       "      <td>run_10011</td>\n",
       "      <td>16</td>\n",
       "      <td>256</td>\n",
       "      <td>0.010</td>\n",
       "      <td>100</td>\n",
       "      <td>NaN</td>\n",
       "    </tr>\n",
       "    <tr>\n",
       "      <th>0</th>\n",
       "      <td>run_10012</td>\n",
       "      <td>16</td>\n",
       "      <td>256</td>\n",
       "      <td>0.010</td>\n",
       "      <td>100</td>\n",
       "      <td>True</td>\n",
       "    </tr>\n",
       "  </tbody>\n",
       "</table>\n",
       "</div>"
      ],
      "text/plain": [
       "      run_no  batch_size  img_w     lr  epoches weighted\n",
       "0  run_10010          16    256  0.001      100      NaN\n",
       "0  run_10011          16    256  0.010      100      NaN\n",
       "0  run_10012          16    256  0.010      100     True"
      ]
     },
     "execution_count": 22,
     "metadata": {},
     "output_type": "execute_result"
    }
   ],
   "source": [
    "df"
   ]
  },
  {
   "cell_type": "code",
   "execution_count": null,
   "id": "8f3acc64",
   "metadata": {},
   "outputs": [],
   "source": []
  }
 ],
 "metadata": {
  "kernelspec": {
   "display_name": "Python 3",
   "language": "python",
   "name": "python3"
  },
  "language_info": {
   "codemirror_mode": {
    "name": "ipython",
    "version": 3
   },
   "file_extension": ".py",
   "mimetype": "text/x-python",
   "name": "python",
   "nbconvert_exporter": "python",
   "pygments_lexer": "ipython3",
   "version": "3.8.8"
  }
 },
 "nbformat": 4,
 "nbformat_minor": 5
}
